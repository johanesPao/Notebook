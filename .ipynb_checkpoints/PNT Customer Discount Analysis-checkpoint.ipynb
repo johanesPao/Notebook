{
 "cells": [
  {
   "cell_type": "markdown",
   "id": "5e5d6183",
   "metadata": {},
   "source": [
    "# I. IMPORT MODUL"
   ]
  },
  {
   "cell_type": "markdown",
   "id": "74d28b02",
   "metadata": {},
   "source": [
    "<i>Melakukan import modul pandas, numpy dan juga matplotlib. Chained assignment pada pandas dinon-aktifkan dan format pandas secara global untuk angka diubah menjadi :,.2f</i>"
   ]
  },
  {
   "cell_type": "code",
   "execution_count": null,
   "id": "62262475",
   "metadata": {},
   "outputs": [],
   "source": [
    "import pandas as pd\n",
    "import numpy as np\n",
    "import matplotlib.pyplot as plt\n",
    "import matplotlib.ticker as ticker\n",
    "import matplotlib as mpl\n",
    "from sklearn.cluster import KMeans\n",
    "from sklearn.preprocessing import MinMaxScaler\n",
    "from jupyterthemes import jtplot\n",
    "\n",
    "# menonaktifkan chained assignment pada pandas\n",
    "pd.options.mode.chained_assignment = None  # default='warn'\n",
    "pd.options.display.float_format = '{:,.2f}'.format\n",
    "\n",
    "# setting dpi matplotlib\n",
    "mpl.rcParams['figure.dpi']= 150\n",
    "%config InlineBackend.figure_format = 'retina'\n",
    "\n",
    "# setting tema jupyter untuk plotting\n",
    "jtplot.style(theme='monokai')\n",
    "\n",
    "# setting formatter untuk floating tanpa koma di belakang\n",
    "format_float0 = \"{:,.0f}\".format\n",
    "\n",
    "# setting periode berdasar data\n",
    "periode = \"2020 - 2022 YTD\""
   ]
  },
  {
   "cell_type": "markdown",
   "id": "0ac64fb5",
   "metadata": {},
   "source": [
    "# II. MEMBACA DAN MERUBAH FORMAT DATA PADA DATAFRAME"
   ]
  },
  {
   "cell_type": "markdown",
   "id": "c038a34b",
   "metadata": {},
   "source": [
    "<p><i>Data yang digunakan dalam analisa ini adalah data penjualan PT Panatrade Caraka 2020 - 2022 (cut off bulan Maret 2022). Data ini didapat dengan menggunakan penggabungan beberapa sales data dalam format csv. Adapun pembersihan terhadap data dilakukan dengan menambahkan kolom 'brand_m' yang merupakan 3 karakter pertama dari kolom 'brand' dan kolom 'division' yang merupakan 1 karakter pertama dari kolom 'categ' serta dilakukan drop kolom untuk 'brand', 'categ' dan '%' setelahnya.</i></p>\n",
    "<p><i>Kolom 'brand_m' merupakan kolom modifikasi dimana brand hanya menggunakan 3 karakter.<br>\n",
    "Kolom 'division' merupakan product division dari sku (F untuk Footwear, A untuk Apparel dan H untuk Equipment).<br>\n",
    "Kolom '%' didrop karena data ini bisa kita generate nantinya.</i></p>\n"
   ]
  },
  {
   "cell_type": "code",
   "execution_count": null,
   "id": "3a354f7a",
   "metadata": {},
   "outputs": [],
   "source": [
    "data = pd.concat(map(pd.read_csv, ['Sales2022.csv', 'Sales2021.csv', 'Sales2020.csv']))\n",
    "data['brand_m'] = data['brand'].str[:3]\n",
    "data['division'] = data['categ'].str[:1]\n",
    "data.drop(['categ', '%', 'brand'], axis=1)\n",
    "data"
   ]
  },
  {
   "cell_type": "code",
   "execution_count": null,
   "id": "69c8dbad-e4b0-4bab-8a16-e17d605e9a2f",
   "metadata": {},
   "outputs": [],
   "source": [
    "# Merubah dtype beberapa kolom dari object menjadi float64\n",
    "data.Quantity = data.Quantity.str.replace(',','').astype(float)\n",
    "data.Bruto = data.Bruto.str.replace(',','').astype(float)\n",
    "data.Net = data.Net.str.replace(',','').astype(float)\n",
    "data.Cogs = data.Cogs.str.replace(',','').astype(float)\n",
    "data.Profit = data.Profit.str.replace(',','').astype(float)\n",
    "data.dtypes"
   ]
  },
  {
   "cell_type": "markdown",
   "id": "4e5c6eea-fd01-4002-b71b-85d294feb280",
   "metadata": {},
   "source": [
    "Berdasarkan data yang diberikan, masih terdapat redundancy pada customer name ('customer') untuk customer code ('Id Cust'). Hal ini dapat dilihat dari jumlah unique 'customer' pada beberapa 'Id Cust' yang nilainya lebih dari 1 seperti dapat dilihat di bawah. Maka dengan demikian beberapa grouping yang akan menggunakan irisan customer akan lebih terkonsentrasi menggunakan 'Id Cust' ketimbang 'customer'."
   ]
  },
  {
   "cell_type": "code",
   "execution_count": null,
   "id": "cdf0a65c-d5a9-4558-a41e-ba27bd85178a",
   "metadata": {},
   "outputs": [],
   "source": [
    "data.nunique()"
   ]
  },
  {
   "cell_type": "code",
   "execution_count": null,
   "id": "223849f1-6d6d-4d6e-b868-8a3cbb048150",
   "metadata": {},
   "outputs": [],
   "source": [
    "cust_map = data[['Id Cust', 'customer']].groupby(['Id Cust']).nunique()\n",
    "print(cust_map.head(10))"
   ]
  },
  {
   "cell_type": "markdown",
   "id": "9a3557ca",
   "metadata": {},
   "source": [
    "# III. MEMILIH DATA"
   ]
  },
  {
   "cell_type": "code",
   "execution_count": null,
   "id": "bcd6a251",
   "metadata": {},
   "outputs": [],
   "source": [
    "# Memilih data datara spesifik\n",
    "data_terpilih = data[['Art', 'brand_m', 'division', 'Quantity', 'Bruto', 'Net', 'Cogs', 'Profit', 'brand', 'Id Cust', 'date']]"
   ]
  },
  {
   "cell_type": "markdown",
   "id": "8c9c240e",
   "metadata": {},
   "source": [
    "# IV. PERHITUNGAN DISKON"
   ]
  },
  {
   "cell_type": "markdown",
   "id": "accbf64d",
   "metadata": {},
   "source": [
    "$\n",
    "\\begin{align}\n",
    "disc = \\frac{bruto - net}{bruto}\n",
    "\\end{align}\n",
    "$"
   ]
  },
  {
   "cell_type": "code",
   "execution_count": null,
   "id": "1d9de4e7",
   "metadata": {},
   "outputs": [],
   "source": [
    "data_terpilih['discount_per_baris'] = (data_terpilih['Bruto'] - data_terpilih['Net']) / data_terpilih['Bruto']\n",
    "data_terpilih['margin_per_baris'] = (data_terpilih['Net'] - data_terpilih['Cogs']) / data_terpilih['Net']"
   ]
  },
  {
   "cell_type": "markdown",
   "id": "7a68583f-a21d-405c-8248-6472251666d0",
   "metadata": {},
   "source": [
    "Terdapat data dengan nilai penjualan bruto sama dengan 0 yang menyebabkan munculnya error pada kolom discount atau infinite karena melakukan pembagian terhadap 0. Seperti dapat dilihat dari data_terpilih.describe() di bawah ini yang menunjukkan bahwa mean dan juga min dari kolom discount adalah -inf. Oleh karena itu pada cell selanjutnya kita akan melakukan drop terhadap baris data dengan penjualan bruto 0."
   ]
  },
  {
   "cell_type": "code",
   "execution_count": null,
   "id": "047ed34c",
   "metadata": {},
   "outputs": [],
   "source": [
    "# Informasi dasar data_terpilih\n",
    "print(data_terpilih.describe())"
   ]
  },
  {
   "cell_type": "code",
   "execution_count": null,
   "id": "9f40023c-4a73-40e7-89a7-c42cb486674f",
   "metadata": {},
   "outputs": [],
   "source": [
    "data_terpilih = data_terpilih[data_terpilih['Bruto'] != 0]\n",
    "data_terpilih['frekuensi_transaksi'] = 1\n",
    "\n",
    "# Memisahkan data dengan penjualan normal (tingkat discount di bawah 50%) dan penjualan diskon (tingkat discount di atas dan sama dengan 50%)\n",
    "data_terpilih_normal = data_terpilih[data_terpilih['discount_per_baris'] < 0.5]\n",
    "data_terpilih_diskon = data_terpilih[data_terpilih['discount_per_baris'] >= 0.5]"
   ]
  },
  {
   "cell_type": "markdown",
   "id": "eb8dc1a6-17d5-4cfd-98ec-bb0e3d3a3442",
   "metadata": {},
   "source": [
    "## IV.a SEMUA PENJUALAN"
   ]
  },
  {
   "cell_type": "code",
   "execution_count": null,
   "id": "8efac598-ed00-4ae2-8484-3545be8ce44f",
   "metadata": {},
   "outputs": [],
   "source": [
    "print(data_terpilih.describe())"
   ]
  },
  {
   "cell_type": "markdown",
   "id": "64558038-7129-4f89-883f-71f8b97cd72f",
   "metadata": {},
   "source": [
    "## IV.b PENJUALAN NORMAL"
   ]
  },
  {
   "cell_type": "code",
   "execution_count": null,
   "id": "05de8483-9f13-44e6-97aa-d68408b5f3b1",
   "metadata": {},
   "outputs": [],
   "source": [
    "print(data_terpilih_normal.describe())"
   ]
  },
  {
   "cell_type": "markdown",
   "id": "406f7483-d7e4-43ea-971e-ee971f336132",
   "metadata": {
    "tags": []
   },
   "source": [
    "### IV.b.1 ANALISA BERDASAR TINGKAT DISKON PER BARIS TRANSAKSI"
   ]
  },
  {
   "cell_type": "code",
   "execution_count": null,
   "id": "3adffac5",
   "metadata": {},
   "outputs": [],
   "source": [
    "net_berdasar_disc = data_terpilih_normal[['discount_per_baris', 'Net', 'frekuensi_transaksi']].groupby(['discount_per_baris']).sum()\n",
    "with pd.option_context('display.max_rows', None):\n",
    "    print(net_berdasar_disc.sort_values(by=['Net'], ascending=False))"
   ]
  },
  {
   "cell_type": "code",
   "execution_count": null,
   "id": "9b3e743b",
   "metadata": {},
   "outputs": [],
   "source": [
    "print(net_berdasar_disc.describe())"
   ]
  },
  {
   "cell_type": "markdown",
   "id": "22ef3378",
   "metadata": {},
   "source": [
    "### IV.b.2 ANALISA BERDASAR CUSTOMER"
   ]
  },
  {
   "cell_type": "code",
   "execution_count": null,
   "id": "e3b28add",
   "metadata": {
    "tags": []
   },
   "outputs": [],
   "source": [
    "net_berdasar_cust = data_terpilih_normal[['Id Cust', 'Net']].groupby(['Id Cust']).sum()"
   ]
  },
  {
   "cell_type": "markdown",
   "id": "66a63240",
   "metadata": {},
   "source": [
    "#### IV.b.2.1 TOTAL NILAI NET SALES"
   ]
  },
  {
   "cell_type": "code",
   "execution_count": null,
   "id": "18f5c4e3",
   "metadata": {},
   "outputs": [],
   "source": [
    "net_berdasar_cust.sum()"
   ]
  },
  {
   "cell_type": "markdown",
   "id": "a55353e2",
   "metadata": {},
   "source": [
    "#### IV.b.2.2 NET SALES BERDASAR CUSTOMER"
   ]
  },
  {
   "cell_type": "code",
   "execution_count": null,
   "id": "1082602e",
   "metadata": {},
   "outputs": [],
   "source": [
    "print(net_berdasar_cust.describe())"
   ]
  },
  {
   "cell_type": "markdown",
   "id": "a015785c",
   "metadata": {},
   "source": [
    "#### IV.b.2.3 CUSTOMER DENGAN NILAI TOTAL PENJUALAN DI ATAS RATA - RATA\n",
    "<i>Berikut adalah kontribusi net sales 2020 - 2022 YTD untuk customer dengan total nilai net sales di atas nilai rata - rata net sales dari semua customer (kecuali PT Prestasi Retail Innovation - 220P001)</i>"
   ]
  },
  {
   "cell_type": "code",
   "execution_count": null,
   "id": "445e87d9",
   "metadata": {},
   "outputs": [],
   "source": [
    "# Menslice customer dengan total nilai Net Sales di atas rata - rata Net Sales\n",
    "cust_diatas_rerata = net_berdasar_cust.loc[(net_berdasar_cust['Net'] > net_berdasar_cust['Net'].mean()) & \n",
    "                                           (net_berdasar_cust.index != \"220P001\")].sort_values(by=['Net'], ascending=False)\n",
    "net_mean = net_berdasar_cust['Net'].mean()\n",
    "total_cust = net_berdasar_cust['Net'].count()\n",
    "total_cust_diatas_rerata = cust_diatas_rerata['Net'].count()\n",
    "\n",
    "with pd.option_context('display.max_rows', None):\n",
    "    print(f'Berikut adalah daftar customer dengan total penjualan di atas rata - rata total penjualan periode {periode} (Rp {format_float0(net_mean)}): \\n'\n",
    "          f'Jumlah customer di atas rata - rata {total_cust_diatas_rerata} orang dari total customer {total_cust} orang\\n{cust_diatas_rerata}')"
   ]
  },
  {
   "cell_type": "code",
   "execution_count": null,
   "id": "a7dfef6d",
   "metadata": {},
   "outputs": [],
   "source": [
    "plt.figure(figsize=(15,10))\n",
    "plt.barh(cust_diatas_rerata.index, cust_diatas_rerata['Net'], color='purple')\n",
    "plt.xlabel(\"Net Sales\", fontsize=14)\n",
    "plt.title(f\"Net Sales Customer dengan Total Nilai Net Sales di atas Rata - Rata (Rp {format_float0(net_berdasar_cust['Net'].mean())})\", fontsize=18)\n",
    "plt.gca().xaxis.set_major_formatter(ticker.StrMethodFormatter('{x:,.0f}'))\n",
    "plt.gca().spines['top'].set_visible(False)\n",
    "plt.gca().spines['right'].set_visible(False)\n",
    "plt.gca().spines['bottom'].set_visible(False)\n",
    "plt.grid(False)\n",
    "plt.yticks(fontsize=5)\n",
    "plt.xticks(fontsize=9)\n",
    "plt.show()"
   ]
  },
  {
   "cell_type": "markdown",
   "id": "9372970f-70bd-4e8a-a9c9-59b9fc084033",
   "metadata": {},
   "source": [
    "#### IV.b.2.4 TOP 3 CUSTOMER"
   ]
  },
  {
   "cell_type": "code",
   "execution_count": null,
   "id": "ce4c61a7-de15-40a1-bba8-0152b454b13a",
   "metadata": {},
   "outputs": [],
   "source": [
    "net_berdasar_disc_cust = data_terpilih_normal[['Id Cust', 'discount_per_baris', 'Net']].groupby(['Id Cust', 'discount_per_baris']).sum()\n",
    "print(net_berdasar_disc_cust.iloc[net_berdasar_disc_cust.index.get_level_values('Id Cust') == '104A019'])\n",
    "print(net_berdasar_disc_cust.iloc[net_berdasar_disc_cust.index.get_level_values('Id Cust') == '101G012'])\n",
    "print(net_berdasar_disc_cust.iloc[net_berdasar_disc_cust.index.get_level_values('Id Cust') == '105A009'])"
   ]
  },
  {
   "cell_type": "markdown",
   "id": "3a1f81d9-aaf1-45e5-b0d7-e9790f716f8f",
   "metadata": {
    "tags": []
   },
   "source": [
    "### IV.b.3 ANALISA BERDASAR TINGKAT DISKON KESELURUHAN TRANSAKSI"
   ]
  },
  {
   "cell_type": "code",
   "execution_count": null,
   "id": "2dafd769-eb15-4ca9-96b3-e2ebe8d548ad",
   "metadata": {},
   "outputs": [],
   "source": [
    "disc_rerata_cust = data_terpilih_normal[['Id Cust', 'Quantity', 'Bruto', 'Net', 'Cogs', 'frekuensi_transaksi']].groupby(['Id Cust']).sum()\n",
    "disc_rerata_cust['rerata_disc'] = (disc_rerata_cust['Bruto'] - disc_rerata_cust['Net']) / disc_rerata_cust['Bruto']\n",
    "disc_rerata_cust['rerata_margin'] = (disc_rerata_cust['Net'] - disc_rerata_cust['Cogs']) / disc_rerata_cust['Net']\n",
    "disc_rerata_cust['rerata_spending'] = (disc_rerata_cust['Bruto'] / disc_rerata_cust['Quantity'])\n",
    "disc_rerata_cust['ATV'] = disc_rerata_cust['Net'] / disc_rerata_cust['frekuensi_transaksi']\n",
    "disc_rerata_cust.sort_values(by='rerata_disc', ascending=False)\n",
    "disc_rerata_cust"
   ]
  },
  {
   "cell_type": "code",
   "execution_count": null,
   "id": "35c89deb-a09a-47c3-a505-5d8d9ee000ae",
   "metadata": {},
   "outputs": [],
   "source": [
    "disc_rerata_cust.nunique()"
   ]
  },
  {
   "cell_type": "code",
   "execution_count": null,
   "id": "13423e49-670e-4b42-9247-e88ded22373c",
   "metadata": {},
   "outputs": [],
   "source": [
    "disc_rerata_cust['rerata_disc'].unique()"
   ]
  },
  {
   "cell_type": "code",
   "execution_count": null,
   "id": "b3659e6d-aaad-4fa8-b63f-3922927de8e6",
   "metadata": {},
   "outputs": [],
   "source": [
    "fig = plt.figure(figsize=(15, 4))\n",
    "\n",
    "ax1 = fig.add_subplot(131)\n",
    "ax2 = fig.add_subplot(132)\n",
    "ax3 = fig.add_subplot(133)\n",
    "\n",
    "ax1.scatter(disc_rerata_cust['rerata_disc'], disc_rerata_cust['rerata_spending'], c='purple')\n",
    "ax1.yaxis.set_major_formatter(ticker.StrMethodFormatter('{x:,.0f}'))\n",
    "ax1.set_title('Distribusi Customer Berdasar Diskon VS Spending', fontsize=10)\n",
    "ax1.set_xlabel('Rerata Diskon', fontsize=7)\n",
    "ax1.set_ylabel('Rerata Spending', fontsize=7)\n",
    "ax1.xaxis.set_tick_params(labelsize=7)\n",
    "ax1.yaxis.set_tick_params(labelsize=7)\n",
    "\n",
    "ax2.scatter(disc_rerata_cust['rerata_disc'], disc_rerata_cust['rerata_margin'], c='purple')\n",
    "# ax2.yaxis.set_major_formatter(ticker.StrMethodFormatter('{x:,.0f}'))\n",
    "ax2.set_title('Distribusi Customer Berdasar Diskon VS Margin', fontsize=10)\n",
    "ax2.set_xlabel('Rerata Diskon', fontsize=7)\n",
    "ax2.set_ylabel('Rerata Margin', fontsize=7)\n",
    "ax2.xaxis.set_tick_params(labelsize=7)\n",
    "ax2.yaxis.set_tick_params(labelsize=7)\n",
    "\n",
    "ax3.scatter(disc_rerata_cust['rerata_disc'], disc_rerata_cust['frekuensi_transaksi'], c='purple')\n",
    "# ax3.yaxis.set_major_formatter(ticker.StrMethodFormatter('{x:,.0f}'))\n",
    "ax3.set_title('Distribusi Customer Berdasar Diskon VS Frekuensi Transaksi', fontsize=10)\n",
    "ax3.set_xlabel('Rerata Diskon', fontsize=7)\n",
    "ax3.set_ylabel('Frekuensi Transaksi', fontsize=7)\n",
    "ax3.xaxis.set_tick_params(labelsize=7)\n",
    "ax3.yaxis.set_tick_params(labelsize=7)\n",
    "plt.show()"
   ]
  },
  {
   "cell_type": "code",
   "execution_count": null,
   "id": "10b97e34-5bbc-41be-bccb-758aa6e2cca4",
   "metadata": {},
   "outputs": [],
   "source": [
    "# pengelompokan berdasar range diskon\n",
    "n_grup = 5\n",
    "batas_atas = 0.5 # berdasarkan tingkat diskon penjualan normal\n",
    "\n",
    "x = []\n",
    "y = []\n",
    "\n",
    "for numerator in range(n_grup):\n",
    "    if numerator == 0:\n",
    "        x.append(\"<=\" + format(((numerator + 1) / n_grup) * batas_atas, '.0%'))\n",
    "        y.append(len(disc_rerata_cust[disc_rerata_cust['rerata_disc'] <= ((numerator + 1) / n_grup) * batas_atas]))\n",
    "    elif numerator + 1 == n_grup:\n",
    "        x.append(\">\" + format(((numerator) / n_grup) * batas_atas, '.0%'))\n",
    "        y.append(len(disc_rerata_cust[disc_rerata_cust['rerata_disc'] > ((numerator) / n_grup) * batas_atas]))\n",
    "    else:\n",
    "        x.append(format(((numerator) / n_grup) * batas_atas, '.0%') + \"-\" + format(((numerator + 1) / n_grup) * batas_atas, '.0%'))\n",
    "        y.append(len(disc_rerata_cust[(disc_rerata_cust['rerata_disc'] > (numerator / n_grup) * batas_atas) & (disc_rerata_cust['rerata_disc'] <= ((numerator + 1) / n_grup) * batas_atas)]))\n",
    "\n",
    "plt.figure(figsize=(20, 6))\n",
    "plt.bar(x,y, color='purple')\n",
    "plt.grid(False)\n",
    "plt.gca().spines['left'].set_visible(False)\n",
    "plt.gca().spines['top'].set_visible(False)\n",
    "plt.gca().spines['right'].set_visible(False)\n",
    "plt.title(f'Jumlah Customer Dalam Rentang Diskon ({n_grup} Grup)')\n",
    "plt.xlabel(\"Rentang Rerata Diskon\", fontsize=12)\n",
    "plt.ylabel(\"Jumlah Customer\", fontsize=12)\n",
    "plt.xticks(fontsize=8, rotation='vertical')\n",
    "plt.yticks(fontsize=8)\n",
    "plt.show()"
   ]
  },
  {
   "cell_type": "markdown",
   "id": "2b827e85-16f8-4380-83a3-a0db99edac39",
   "metadata": {
    "tags": []
   },
   "source": [
    "### IV.b.4 ANALISA BERDASAR BRAND"
   ]
  },
  {
   "cell_type": "markdown",
   "id": "2da76e60-aa95-4d12-adac-22e6b3393488",
   "metadata": {},
   "source": [
    "#### IV.b.4.1 ANALISA TINGKAT DISKON PER BARIS TRANSAKSI PER BRAND"
   ]
  },
  {
   "cell_type": "code",
   "execution_count": null,
   "id": "61252e3d-fcc9-40a0-9a54-c28d3ed7603d",
   "metadata": {},
   "outputs": [],
   "source": [
    "data_disc_per_baris_by_brand = data_terpilih_normal[['brand_m', 'discount_per_baris', 'Quantity', 'Net', 'frekuensi_transaksi']].groupby(['brand_m', 'discount_per_baris']).sum()\n",
    "with pd.option_context('display.max_rows', None):\n",
    "    print(data_disc_per_baris_by_brand)"
   ]
  },
  {
   "cell_type": "markdown",
   "id": "69622e34-41d4-4c65-acda-c40b8c118f72",
   "metadata": {},
   "source": [
    "#### IV.b.4.2 ANALISA TINGKAT DISKON KESELURUHAN TRANSAKSI PER BRAND"
   ]
  },
  {
   "cell_type": "code",
   "execution_count": null,
   "id": "9ef7db2c-474c-4ede-b5dd-67bb30f97bca",
   "metadata": {},
   "outputs": [],
   "source": [
    "data_disc_by_brand = data_terpilih_normal[['brand_m', 'Quantity', 'Bruto', 'Net', 'Cogs', 'frekuensi_transaksi']].groupby(['brand_m']).sum()\n",
    "data_disc_by_brand['discount'] = (data_disc_by_brand['Bruto'] - data_disc_by_brand['Net']) / data_disc_by_brand['Bruto']\n",
    "data_disc_by_brand['margin'] = (data_disc_by_brand['Net'] - data_disc_by_brand['Cogs'])/ data_disc_by_brand['Net']\n",
    "data_disc_by_brand"
   ]
  },
  {
   "cell_type": "markdown",
   "id": "42e53fac-48d6-455d-b95d-8d8d76093970",
   "metadata": {
    "tags": []
   },
   "source": [
    "### IV.b.5 ANALISA BERDASAR PRODUCT DIVISION"
   ]
  },
  {
   "cell_type": "markdown",
   "id": "2a55a034-59e1-4696-b1a6-59696c7ee075",
   "metadata": {},
   "source": [
    "#### IV.b.5.1 ANALISA TINGKAT DISKON PER BARIS TRANSAKSI PER PRODUCT DIVISION"
   ]
  },
  {
   "cell_type": "code",
   "execution_count": null,
   "id": "060212f1-3d6b-45c7-baa0-4099d5f3a87c",
   "metadata": {},
   "outputs": [],
   "source": [
    "data_disc_per_baris_by_div = data_terpilih_normal[['division', 'discount_per_baris', 'Quantity', 'Net', 'frekuensi_transaksi']].groupby(['division', 'discount_per_baris']).sum()\n",
    "with pd.option_context('display.max_rows', None):\n",
    "    print(data_disc_per_baris_by_div)"
   ]
  },
  {
   "cell_type": "markdown",
   "id": "36d33bd6-f317-4a16-b085-cfe236374f17",
   "metadata": {},
   "source": [
    "#### IV.b.5.2 ANALISA TINGKAT DISKON KESELURUHAN TRANSAKSI PER PRODUCT DIVISION"
   ]
  },
  {
   "cell_type": "code",
   "execution_count": null,
   "id": "513cde34-4b10-46ff-a43f-5d78ffaa090a",
   "metadata": {},
   "outputs": [],
   "source": [
    "data_disc_by_div = data_terpilih_normal[['division', 'Quantity', 'Bruto', 'Net', 'Cogs', 'frekuensi_transaksi']].groupby(['division']).sum()\n",
    "data_disc_by_div['discount'] = (data_disc_by_div['Bruto'] - data_disc_by_div['Net']) / data_disc_by_div['Bruto']\n",
    "data_disc_by_div['margin'] = (data_disc_by_div['Net'] - data_disc_by_div['Cogs'])/ data_disc_by_div['Net']\n",
    "data_disc_by_div"
   ]
  },
  {
   "cell_type": "markdown",
   "id": "f4bbf7e6-584b-411a-8a5f-a245405bd450",
   "metadata": {},
   "source": [
    "## IV.c PENJUALAN DISKON"
   ]
  },
  {
   "cell_type": "code",
   "execution_count": null,
   "id": "82625981-5dce-4c4f-abe8-a83ddfac179a",
   "metadata": {
    "tags": []
   },
   "outputs": [],
   "source": [
    "print(data_terpilih_diskon.describe())"
   ]
  },
  {
   "cell_type": "markdown",
   "id": "ce91fb2b-b0af-4a4d-96bc-b3d79e23a5a8",
   "metadata": {
    "tags": []
   },
   "source": [
    "### IV.c.1 ANALISA BERDASAR TINGKAT DISKON PER BARIS TRANSAKSI"
   ]
  },
  {
   "cell_type": "code",
   "execution_count": null,
   "id": "7daaf2b7-e677-4a10-8126-45ee33ea912f",
   "metadata": {},
   "outputs": [],
   "source": [
    "net_berdasar_disc = data_terpilih_diskon[['discount_per_baris', 'Net', 'frekuensi_transaksi']].groupby(['discount_per_baris']).sum()\n",
    "with pd.option_context('display.max_rows', None):\n",
    "    print(net_berdasar_disc.sort_values(by=['Net'], ascending=False))"
   ]
  },
  {
   "cell_type": "code",
   "execution_count": null,
   "id": "a45f6f12-f53c-4ff1-a94e-d64b0e55ab52",
   "metadata": {},
   "outputs": [],
   "source": [
    "print(net_berdasar_disc.describe())"
   ]
  },
  {
   "cell_type": "markdown",
   "id": "76c1e569-c16c-4e27-9f56-dbe66fb381dc",
   "metadata": {},
   "source": [
    "### IV.c.2 ANALISA BERDASAR CUSTOMER"
   ]
  },
  {
   "cell_type": "code",
   "execution_count": null,
   "id": "c31ce533-0199-41e2-ab38-0010984e5c83",
   "metadata": {
    "tags": []
   },
   "outputs": [],
   "source": [
    "net_berdasar_cust = data_terpilih_diskon[['Id Cust', 'Net']].groupby(['Id Cust']).sum()"
   ]
  },
  {
   "cell_type": "markdown",
   "id": "c5e07072-c2f3-4330-af1d-14063366340a",
   "metadata": {},
   "source": [
    "#### IV.c.2.1 TOTAL NILAI NET SALES"
   ]
  },
  {
   "cell_type": "code",
   "execution_count": null,
   "id": "95dd96b9-4fc0-45b4-8914-8f4f876c82b5",
   "metadata": {},
   "outputs": [],
   "source": [
    "net_berdasar_cust.sum()"
   ]
  },
  {
   "cell_type": "markdown",
   "id": "3a0d6e97-11da-44de-87e5-16322ef25720",
   "metadata": {},
   "source": [
    "#### IV.c.2.2 NET SALES BERDASAR CUSTOMER"
   ]
  },
  {
   "cell_type": "code",
   "execution_count": null,
   "id": "c81ee1a4-fccc-4feb-be80-3803c26b9e5f",
   "metadata": {},
   "outputs": [],
   "source": [
    "print(net_berdasar_cust.describe())"
   ]
  },
  {
   "cell_type": "markdown",
   "id": "2449b274-f376-4c8e-a8fb-b32404bde5c8",
   "metadata": {},
   "source": [
    "#### IV.c.2.3 CUSTOMER DENGAN NILAI TOTAL PENJUALAN DI ATAS RATA - RATA\n",
    "<i>Berikut adalah kontribusi net sales 2020 - 2022 YTD untuk customer dengan total nilai net sales di atas nilai rata - rata net sales dari semua customer (kecuali PT Prestasi Retail Innovation - 220P001)</i>"
   ]
  },
  {
   "cell_type": "code",
   "execution_count": null,
   "id": "5eeddd00-351d-4330-a1a7-aad6968775ad",
   "metadata": {},
   "outputs": [],
   "source": [
    "# Menslice customer dengan total nilai Net Sales di atas rata - rata Net Sales\n",
    "cust_diatas_rerata = net_berdasar_cust.loc[(net_berdasar_cust['Net'] > net_berdasar_cust['Net'].mean()) & \n",
    "                                           (net_berdasar_cust.index != \"220P001\")].sort_values(by=['Net'], ascending=False)\n",
    "net_mean = net_berdasar_cust['Net'].mean()\n",
    "total_cust = net_berdasar_cust['Net'].count()\n",
    "total_cust_diatas_rerata = cust_diatas_rerata['Net'].count()\n",
    "\n",
    "with pd.option_context('display.max_rows', None):\n",
    "    print(f'Berikut adalah daftar customer dengan total penjualan di atas rata - rata total penjualan periode {periode} (Rp {format_float0(net_mean)}): \\n'\n",
    "          f'Jumlah customer di atas rata - rata {total_cust_diatas_rerata} orang dari total customer {total_cust} orang\\n{cust_diatas_rerata}')"
   ]
  },
  {
   "cell_type": "code",
   "execution_count": null,
   "id": "c6d68ff0-6f40-4011-bdb8-ec0100bcff85",
   "metadata": {},
   "outputs": [],
   "source": [
    "plt.figure(figsize=(15,10))\n",
    "plt.barh(cust_diatas_rerata.index, cust_diatas_rerata['Net'], color='purple')\n",
    "plt.xlabel(\"Net Sales\", fontsize=14)\n",
    "plt.title(f\"Net Sales Customer dengan Total Nilai Net Sales di atas Rata - Rata (Rp {format_float0(net_berdasar_cust['Net'].mean())})\", fontsize=18)\n",
    "plt.gca().xaxis.set_major_formatter(ticker.StrMethodFormatter('{x:,.0f}'))\n",
    "plt.gca().spines['top'].set_visible(False)\n",
    "plt.gca().spines['right'].set_visible(False)\n",
    "plt.gca().spines['bottom'].set_visible(False)\n",
    "plt.grid(False)\n",
    "plt.yticks(fontsize=5)\n",
    "plt.xticks(fontsize=9)\n",
    "plt.show()"
   ]
  },
  {
   "cell_type": "markdown",
   "id": "dab55aed-a34b-48f9-830c-f331ea06e1f5",
   "metadata": {},
   "source": [
    "#### IV.c.2.4 TOP 3 CUSTOMER"
   ]
  },
  {
   "cell_type": "code",
   "execution_count": null,
   "id": "5a142831-02d4-4816-a873-b4b4f79b3f9a",
   "metadata": {},
   "outputs": [],
   "source": [
    "net_berdasar_disc_cust = data_terpilih_diskon[['Id Cust', 'discount_per_baris', 'Net']].groupby(['Id Cust', 'discount_per_baris']).sum()\n",
    "print(net_berdasar_disc_cust.iloc[net_berdasar_disc_cust.index.get_level_values('Id Cust') == '104A019'])\n",
    "print(net_berdasar_disc_cust.iloc[net_berdasar_disc_cust.index.get_level_values('Id Cust') == '101B022'])\n",
    "print(net_berdasar_disc_cust.iloc[net_berdasar_disc_cust.index.get_level_values('Id Cust') == '101G018'])"
   ]
  },
  {
   "cell_type": "markdown",
   "id": "9c3b828e-82eb-4503-bab6-885aaa68dc12",
   "metadata": {
    "tags": []
   },
   "source": [
    "### IV.c.3 ANALISA BERDASAR TINGKAT DISKON KESELURUHAN TRANSAKSI"
   ]
  },
  {
   "cell_type": "code",
   "execution_count": null,
   "id": "7f6ce2e4-9cce-481c-bb4e-aa305da64744",
   "metadata": {},
   "outputs": [],
   "source": [
    "disc_rerata_cust = data_terpilih_diskon[['Id Cust', 'Quantity', 'Bruto', 'Net', 'Cogs', 'frekuensi_transaksi']].groupby(['Id Cust']).sum()\n",
    "disc_rerata_cust['rerata_disc'] = (disc_rerata_cust['Bruto'] - disc_rerata_cust['Net']) / disc_rerata_cust['Bruto']\n",
    "disc_rerata_cust['rerata_margin'] = (disc_rerata_cust['Net'] - disc_rerata_cust['Cogs']) / disc_rerata_cust['Net']\n",
    "disc_rerata_cust['rerata_spending'] = (disc_rerata_cust['Bruto'] / disc_rerata_cust['Quantity'])\n",
    "disc_rerata_cust['ATV'] = disc_rerata_cust['Net'] / disc_rerata_cust['frekuensi_transaksi']\n",
    "disc_rerata_cust.sort_values(by='rerata_disc', ascending=False)\n",
    "disc_rerata_cust"
   ]
  },
  {
   "cell_type": "code",
   "execution_count": null,
   "id": "e27b642d-91b5-444f-9394-5c93e21c35ac",
   "metadata": {},
   "outputs": [],
   "source": [
    "disc_rerata_cust.nunique()"
   ]
  },
  {
   "cell_type": "code",
   "execution_count": null,
   "id": "9bafd887-3ec7-46d3-84c4-6fd07bd22013",
   "metadata": {},
   "outputs": [],
   "source": [
    "disc_rerata_cust['rerata_disc'].unique()"
   ]
  },
  {
   "cell_type": "code",
   "execution_count": null,
   "id": "fc41e3f9-2545-480d-b50d-771c9b78b8ef",
   "metadata": {},
   "outputs": [],
   "source": [
    "fig = plt.figure(figsize=(15, 4))\n",
    "\n",
    "ax1 = fig.add_subplot(131)\n",
    "ax2 = fig.add_subplot(132)\n",
    "ax3 = fig.add_subplot(133)\n",
    "\n",
    "ax1.scatter(disc_rerata_cust['rerata_disc'], disc_rerata_cust['rerata_spending'], c='purple')\n",
    "ax1.yaxis.set_major_formatter(ticker.StrMethodFormatter('{x:,.0f}'))\n",
    "ax1.set_title('Distribusi Customer Berdasar Diskon VS Spending', fontsize=10)\n",
    "ax1.set_xlabel('Rerata Diskon', fontsize=7)\n",
    "ax1.set_ylabel('Rerata Spending', fontsize=7)\n",
    "ax1.xaxis.set_tick_params(labelsize=7)\n",
    "ax1.yaxis.set_tick_params(labelsize=7)\n",
    "\n",
    "ax2.scatter(disc_rerata_cust['rerata_disc'], disc_rerata_cust['rerata_margin'], c='purple')\n",
    "# ax2.yaxis.set_major_formatter(ticker.StrMethodFormatter('{x:,.0f}'))\n",
    "ax2.set_title('Distribusi Customer Berdasar Diskon VS Margin', fontsize=10)\n",
    "ax2.set_xlabel('Rerata Diskon', fontsize=7)\n",
    "ax2.set_ylabel('Rerata Margin', fontsize=7)\n",
    "ax2.xaxis.set_tick_params(labelsize=7)\n",
    "ax2.yaxis.set_tick_params(labelsize=7)\n",
    "\n",
    "ax3.scatter(disc_rerata_cust['rerata_disc'], disc_rerata_cust['frekuensi_transaksi'], c='purple')\n",
    "# ax3.yaxis.set_major_formatter(ticker.StrMethodFormatter('{x:,.0f}'))\n",
    "ax3.set_title('Distribusi Customer Berdasar Diskon VS Frekuensi Transaksi', fontsize=10)\n",
    "ax3.set_xlabel('Rerata Diskon', fontsize=7)\n",
    "ax3.set_ylabel('Frekuensi Transaksi', fontsize=7)\n",
    "ax3.xaxis.set_tick_params(labelsize=7)\n",
    "ax3.yaxis.set_tick_params(labelsize=7)\n",
    "plt.show()"
   ]
  },
  {
   "cell_type": "code",
   "execution_count": null,
   "id": "55858cc0-94bf-4990-b6fe-62faa56a04c1",
   "metadata": {},
   "outputs": [],
   "source": [
    "# pengelompokan berdasar range diskon\n",
    "n_grup = 5\n",
    "\n",
    "x = []\n",
    "y = []\n",
    "\n",
    "for numerator in range(n_grup):\n",
    "    if numerator == 0:\n",
    "        x.append(\"<=\" + format((numerator + 1) / n_grup, '.0%'))\n",
    "        y.append(len(disc_rerata_cust[disc_rerata_cust['rerata_disc'] <= (numerator + 1) / n_grup]))\n",
    "    elif numerator + 1 == n_grup:\n",
    "        x.append(\">\" + format((numerator) / n_grup, '.0%'))\n",
    "        y.append(len(disc_rerata_cust[disc_rerata_cust['rerata_disc'] > (numerator) / n_grup]))\n",
    "    else:\n",
    "        x.append(format((numerator) / n_grup, '.0%') + \"-\" + format((numerator + 1) / n_grup, '.0%'))\n",
    "        y.append(len(disc_rerata_cust[(disc_rerata_cust['rerata_disc'] > numerator / n_grup) & (disc_rerata_cust['rerata_disc'] <= (numerator + 1) / n_grup)]))\n",
    "\n",
    "plt.figure(figsize=(20, 6))\n",
    "plt.bar(x,y, color='purple')\n",
    "plt.grid(False)\n",
    "plt.gca().spines['left'].set_visible(False)\n",
    "plt.gca().spines['top'].set_visible(False)\n",
    "plt.gca().spines['right'].set_visible(False)\n",
    "plt.title(f'Jumlah Customer Dalam Rentang Diskon ({n_grup} Grup)')\n",
    "plt.xlabel(\"Rentang Rerata Diskon\", fontsize=12)\n",
    "plt.ylabel(\"Jumlah Customer\", fontsize=12)\n",
    "plt.xticks(fontsize=8, rotation='vertical')\n",
    "plt.yticks(fontsize=8)\n",
    "plt.show()"
   ]
  },
  {
   "cell_type": "markdown",
   "id": "89b0b83c-9919-41cc-8bbc-78ed3d23b1eb",
   "metadata": {
    "tags": []
   },
   "source": [
    "### IV.c.4 ANALISA BERDASAR BRAND"
   ]
  },
  {
   "cell_type": "markdown",
   "id": "b917385e-99d3-47b7-986f-b5ecfaa11017",
   "metadata": {},
   "source": [
    "#### IV.c.4.1 ANALISA TINGKAT DISKON PER BARIS TRANSAKSI PER BRAND"
   ]
  },
  {
   "cell_type": "code",
   "execution_count": null,
   "id": "13715d14-488c-4b84-9457-4a01237b7961",
   "metadata": {},
   "outputs": [],
   "source": [
    "data_disc_per_baris_by_brand = data_terpilih_diskon[['brand_m', 'discount_per_baris', 'Quantity', 'Net', 'frekuensi_transaksi']].groupby(['brand_m', 'discount_per_baris']).sum()\n",
    "with pd.option_context('display.max_rows', None):\n",
    "    print(data_disc_per_baris_by_brand)"
   ]
  },
  {
   "cell_type": "markdown",
   "id": "2a174562-6a7c-40ed-b469-feeab49887b5",
   "metadata": {},
   "source": [
    "#### IV.c.4.2 ANALISA TINGKAT DISKON KESELURUHAN TRANSAKSI PER BRAND"
   ]
  },
  {
   "cell_type": "code",
   "execution_count": null,
   "id": "7825e770-5c9f-428b-85fb-dd34f98315b7",
   "metadata": {},
   "outputs": [],
   "source": [
    "data_disc_by_brand = data_terpilih_diskon[['brand_m', 'Quantity', 'Bruto', 'Net', 'Cogs', 'frekuensi_transaksi']].groupby(['brand_m']).sum()\n",
    "data_disc_by_brand['discount'] = (data_disc_by_brand['Bruto'] - data_disc_by_brand['Net']) / data_disc_by_brand['Bruto']\n",
    "data_disc_by_brand['margin'] = (data_disc_by_brand['Net'] - data_disc_by_brand['Cogs'])/ data_disc_by_brand['Net']\n",
    "data_disc_by_brand"
   ]
  },
  {
   "cell_type": "markdown",
   "id": "f2a716b5-f1c5-4b47-ba03-1d15323c2bf7",
   "metadata": {
    "tags": []
   },
   "source": [
    "### IV.c.5 ANALISA BERDASAR PRODUCT DIVISION"
   ]
  },
  {
   "cell_type": "markdown",
   "id": "1c1d0885-abc7-42a3-9395-c46ed9bfa770",
   "metadata": {},
   "source": [
    "#### IV.c.5.1 ANALISA TINGKAT DISKON PER BARIS TRANSAKSI PER PRODUCT DIVISION"
   ]
  },
  {
   "cell_type": "code",
   "execution_count": null,
   "id": "19484686-8da1-4249-aa8d-94e4d8ef30e8",
   "metadata": {},
   "outputs": [],
   "source": [
    "data_disc_per_baris_by_div = data_terpilih_diskon[['division', 'discount_per_baris', 'Quantity', 'Net', 'frekuensi_transaksi']].groupby(['division', 'discount_per_baris']).sum()\n",
    "with pd.option_context('display.max_rows', None):\n",
    "    print(data_disc_per_baris_by_div)"
   ]
  },
  {
   "cell_type": "markdown",
   "id": "5d48edd0-a375-4c1f-8e50-62154aa7a170",
   "metadata": {},
   "source": [
    "#### IV.c.5.2 ANALISA TINGKAT DISKON KESELURUHAN TRANSAKSI PER PRODUCT DIVISION"
   ]
  },
  {
   "cell_type": "code",
   "execution_count": null,
   "id": "12a1a838-9e13-45f0-94c9-947b746471e7",
   "metadata": {},
   "outputs": [],
   "source": [
    "data_disc_by_div = data_terpilih_diskon[['division', 'Quantity', 'Bruto', 'Net', 'Cogs', 'frekuensi_transaksi']].groupby(['division']).sum()\n",
    "data_disc_by_div['discount'] = (data_disc_by_div['Bruto'] - data_disc_by_div['Net']) / data_disc_by_div['Bruto']\n",
    "data_disc_by_div['margin'] = (data_disc_by_div['Net'] - data_disc_by_div['Cogs'])/ data_disc_by_div['Net']\n",
    "data_disc_by_div"
   ]
  }
 ],
 "metadata": {
  "kernelspec": {
   "display_name": "Python 3 (ipykernel)",
   "language": "python",
   "name": "python3"
  },
  "language_info": {
   "codemirror_mode": {
    "name": "ipython",
    "version": 3
   },
   "file_extension": ".py",
   "mimetype": "text/x-python",
   "name": "python",
   "nbconvert_exporter": "python",
   "pygments_lexer": "ipython3",
   "version": "3.7.9"
  }
 },
 "nbformat": 4,
 "nbformat_minor": 5
}
